{
 "cells": [
  {
   "cell_type": "code",
   "execution_count": null,
   "metadata": {},
   "outputs": [],
   "source": [
    "from sklearn import datasets\n",
    "from sklearn.ensemble import RandomForestClassifier\n",
    "import sklearn.model_selection"
   ]
  },
  {
   "cell_type": "markdown",
   "metadata": {},
   "source": [
    "## This is a Databricks Connect enable environment"
   ]
  },
  {
   "cell_type": "code",
   "execution_count": null,
   "metadata": {},
   "outputs": [],
   "source": [
    "import socket\n",
    "\n",
    "from pyspark.sql import SparkSession\n",
    "import spark_sklearn\n",
    "\n",
    "spark = SparkSession.builder.getOrCreate()\n",
    "\n",
    "print(spark.version)\n",
    "spark.sparkContext.range(4).map(lambda x: socket.gethostname()).collect()"
   ]
  },
  {
   "cell_type": "markdown",
   "metadata": {},
   "source": [
    "## Define a cross validation function to switch between local and remote cross validation"
   ]
  },
  {
   "cell_type": "code",
   "execution_count": null,
   "metadata": {},
   "outputs": [],
   "source": [
    "def cross_val(classifier, x, y, *args, remote=False, **kwargs):\n",
    "    if remote:\n",
    "        gs = spark_sklearn.GridSearchCV(spark.sparkContext, classifier, *args, **kwargs)\n",
    "    else:\n",
    "        gs = sklearn.model_selection.GridSearchCV(classifier, *args, **kwargs)\n",
    "    return gs.fit(x, y)"
   ]
  },
  {
   "cell_type": "markdown",
   "metadata": {},
   "source": [
    "## Local cross validation"
   ]
  },
  {
   "cell_type": "code",
   "execution_count": null,
   "metadata": {},
   "outputs": [],
   "source": [
    "digits = datasets.load_digits()\n",
    "\n",
    "X, y = digits.data, digits.target"
   ]
  },
  {
   "cell_type": "code",
   "execution_count": null,
   "metadata": {},
   "outputs": [],
   "source": [
    "%%time\n",
    "\n",
    "param_grid = {\"max_depth\": [3, None],\n",
    "              \"max_features\": [1, 3, 10],\n",
    "#              \"min_samples_split\": [2, 5, 10],\n",
    "#              \"min_samples_leaf\": [1, 3, 10],\n",
    "#              \"bootstrap\": [True, False],\n",
    "              \"criterion\": [\"gini\", \"entropy\"],\n",
    "              \"n_estimators\": [10, 20, 40, 80]\n",
    "             }\n",
    "\n",
    "cv = cross_val(RandomForestClassifier(), X, y, param_grid=param_grid, remote=False)"
   ]
  },
  {
   "cell_type": "markdown",
   "metadata": {},
   "source": [
    "## Remote cross validation"
   ]
  },
  {
   "cell_type": "code",
   "execution_count": null,
   "metadata": {},
   "outputs": [],
   "source": [
    "%%time\n",
    "\n",
    "param_grid = {\"max_depth\": [3, None],\n",
    "              \"max_features\": [1, 3, 10],\n",
    "              \"min_samples_split\": [2, 5, 10],\n",
    "              \"min_samples_leaf\": [1, 3, 10],\n",
    "              \"bootstrap\": [True, False],\n",
    "              \"criterion\": [\"gini\", \"entropy\"],\n",
    "              \"n_estimators\": [10, 20, 40, 80]\n",
    "             }\n",
    "cv = cross_val(RandomForestClassifier(), X, y, param_grid=param_grid, remote=True)"
   ]
  },
  {
   "cell_type": "code",
   "execution_count": null,
   "metadata": {},
   "outputs": [],
   "source": [
    "import mlflow\n",
    "import mlflow.sklearn\n",
    "import os\n",
    "import pandas as pd\n",
    "import datetime\n",
    "import tempfile\n",
    "import subprocess\n",
    "\n",
    "def mlflow_track(clf, name):\n",
    "    timestamp = datetime.datetime.now().isoformat().split(\".\")[0].replace(\":\", \".\")\n",
    "\n",
    "    i = clf.best_index_\n",
    "    num_runs = len(clf.cv_results_[\"rank_test_score\"])\n",
    "    run_name = \"run %d (best run of %d):\" % (i, num_runs)\n",
    "\n",
    "    with mlflow.start_run(run_name=run_name) as run:\n",
    "        mlflow.log_param(\"folds\", clf.cv)\n",
    "        print(\"Logging parameters\")\n",
    "        params = list(clf.param_grid.keys())\n",
    "        for param in params:\n",
    "            mlflow.log_param(param, clf.cv_results_[\"param_%s\" % param][i])\n",
    "\n",
    "        print(\"Logging metrics\")\n",
    "        mlflow.log_metric(\"rank_test_score\" , clf.cv_results_[\"rank_test_score\"][i])\n",
    "        mlflow.log_metric(\"mean_train_score\", clf.cv_results_[\"mean_train_score\"][i])\n",
    "        mlflow.log_metric(\"std_train_score\",  clf.cv_results_[\"std_train_score\"][i])\n",
    "        mlflow.log_metric(\"mean_test_score\",  clf.cv_results_[\"mean_test_score\"][i])\n",
    "        mlflow.log_metric(\"std_test_score\",   clf.cv_results_[\"std_test_score\"][i])\n",
    "\n",
    "        print(\"Logging model\")\n",
    "        mlflow.sklearn.log_model(clf.best_estimator_, \"model\")\n",
    "\n",
    "        print(\"Logging CV results matrix\")\n",
    "        tempdir = tempfile.TemporaryDirectory().name\n",
    "        os.mkdir(tempdir)\n",
    "\n",
    "        filename = \"%s-%s-cv_results.csv\" % (name, timestamp)\n",
    "        csv = os.path.join(tempdir, filename)\n",
    "        pd.DataFrame(clf.cv_results_).sort_values(by='rank_test_score').to_csv(csv, index=False)\n",
    "        \n",
    "        mlflow.log_artifact(csv, \"cv_results\")\n",
    "    print(\"Done\")"
   ]
  },
  {
   "cell_type": "code",
   "execution_count": null,
   "metadata": {},
   "outputs": [],
   "source": [
    "mlflow.set_tracking_uri(\"databricks://westeu\")\n",
    "\n",
    "experiment=\"/Shared/experiments/digits-spark-sklearn\"\n",
    "mlflow.set_experiment(experiment)\n",
    "\n",
    "mlflow_track(cv, \"digits\")"
   ]
  },
  {
   "cell_type": "code",
   "execution_count": null,
   "metadata": {},
   "outputs": [],
   "source": [
    "\n"
   ]
  }
 ],
 "metadata": {
  "kernelspec": {
   "display_name": "Python 3",
   "language": "python",
   "name": "python3"
  },
  "language_info": {
   "codemirror_mode": {
    "name": "ipython",
    "version": 3
   },
   "file_extension": ".py",
   "mimetype": "text/x-python",
   "name": "python",
   "nbconvert_exporter": "python",
   "pygments_lexer": "ipython3",
   "version": "3.5.6"
  }
 },
 "nbformat": 4,
 "nbformat_minor": 2
}
